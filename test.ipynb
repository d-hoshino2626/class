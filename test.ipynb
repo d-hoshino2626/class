{
 "cells": [
  {
   "cell_type": "code",
   "execution_count": 1,
   "metadata": {},
   "outputs": [],
   "source": [
    "from classy import Class\n",
    "import numpy\n",
    "import matplotlib.pyplot as plt"
   ]
  },
  {
   "cell_type": "code",
   "execution_count": 2,
   "metadata": {},
   "outputs": [],
   "source": [
    "params = {\n",
    "    'output': 'tCl',           # TensorモードのClを計算\n",
    "    'l_max_tensor': 2500,      # 最大のテンソルモードのl\n",
    "    'r': 0.01,                 # Tensor-to-scalar比\n",
    "    'h': 0.675,                # ハッブル定数 (H0 / 100)\n",
    "    'Omega_b': 0.05,           # バリオン密度パラメータ\n",
    "    'Omega_cdm': 0.27,         # コールドダークマター密度パラメータ\n",
    "    'A_s': 2.1e-9,             # スカラー初期振幅\n",
    "    'n_s': 0.965,              # スペクトルインデックス\n",
    "    'tau_reio': 0.06,          # 再電離の光学的厚さ\n",
    "    'k_pivot': 0.05            # 初期スケール\n",
    "}"
   ]
  },
  {
   "cell_type": "code",
   "execution_count": 3,
   "metadata": {},
   "outputs": [
    {
     "ename": "CosmoSevereError",
     "evalue": "\n\nError in Class: Class did not read input parameter(s): l_max_tensor, r\n",
     "output_type": "error",
     "traceback": [
      "\u001b[0;31m\u001b[0m",
      "\u001b[0;31mCosmoSevereError\u001b[0mTraceback (most recent call last)",
      "\u001b[0;32m<ipython-input-3-af37b1945f59>\u001b[0m in \u001b[0;36m<module>\u001b[0;34m()\u001b[0m\n\u001b[1;32m      1\u001b[0m \u001b[0mcosmo\u001b[0m \u001b[0;34m=\u001b[0m \u001b[0mClass\u001b[0m\u001b[0;34m(\u001b[0m\u001b[0;34m)\u001b[0m\u001b[0;34m\u001b[0m\u001b[0m\n\u001b[1;32m      2\u001b[0m \u001b[0mcosmo\u001b[0m\u001b[0;34m.\u001b[0m\u001b[0mset\u001b[0m\u001b[0;34m(\u001b[0m\u001b[0mparams\u001b[0m\u001b[0;34m)\u001b[0m\u001b[0;34m\u001b[0m\u001b[0m\n\u001b[0;32m----> 3\u001b[0;31m \u001b[0mcosmo\u001b[0m\u001b[0;34m.\u001b[0m\u001b[0mcompute\u001b[0m\u001b[0;34m(\u001b[0m\u001b[0;34m)\u001b[0m\u001b[0;34m\u001b[0m\u001b[0m\n\u001b[0m",
      "\u001b[0;32mclassy.pyx\u001b[0m in \u001b[0;36mclassy.Class.compute\u001b[0;34m()\u001b[0m\n",
      "\u001b[0;31mCosmoSevereError\u001b[0m: \n\nError in Class: Class did not read input parameter(s): l_max_tensor, r\n"
     ]
    }
   ],
   "source": [
    "cosmo = Class()\n",
    "cosmo.set(params)\n",
    "cosmo.compute()"
   ]
  },
  {
   "cell_type": "code",
   "execution_count": null,
   "metadata": {},
   "outputs": [],
   "source": []
  }
 ],
 "metadata": {
  "kernelspec": {
   "display_name": "Python 3",
   "language": "python",
   "name": "python3"
  },
  "language_info": {
   "codemirror_mode": {
    "name": "ipython",
    "version": 2
   },
   "file_extension": ".py",
   "mimetype": "text/x-python",
   "name": "python",
   "nbconvert_exporter": "python",
   "pygments_lexer": "ipython2",
   "version": "2.7.18"
  }
 },
 "nbformat": 4,
 "nbformat_minor": 2
}
